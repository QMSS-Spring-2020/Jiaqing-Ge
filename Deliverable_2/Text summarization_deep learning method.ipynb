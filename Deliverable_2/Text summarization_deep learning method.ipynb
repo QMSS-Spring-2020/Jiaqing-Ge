{
 "cells": [
  {
   "cell_type": "markdown",
   "metadata": {},
   "source": [
    "This process is learnt from here: https://www.analyticsvidhya.com/blog/2019/06/comprehensive-guide-text-summarization-using-deep-learning-python/"
   ]
  },
  {
   "cell_type": "markdown",
   "metadata": {},
   "source": [
    "Import packages need"
   ]
  },
  {
   "cell_type": "code",
   "execution_count": 1,
   "metadata": {},
   "outputs": [
    {
     "name": "stderr",
     "output_type": "stream",
     "text": [
      "Using TensorFlow backend.\n"
     ]
    }
   ],
   "source": [
    "from attention import AttentionLayer\n",
    "import numpy as np  \n",
    "import pandas as pd \n",
    "import re           \n",
    "from bs4 import BeautifulSoup \n",
    "from keras.preprocessing.text import Tokenizer \n",
    "from keras.preprocessing.sequence import pad_sequences\n",
    "from nltk.corpus import stopwords   \n",
    "from tensorflow.keras.layers import Input, LSTM, Embedding, Dense, Concatenate, TimeDistributed, Bidirectional\n",
    "from tensorflow.keras.models import Model\n",
    "from tensorflow.keras.callbacks import EarlyStopping\n",
    "import warnings\n",
    "pd.set_option(\"display.max_colwidth\", 200)\n",
    "warnings.filterwarnings(\"ignore\")"
   ]
  },
  {
   "cell_type": "markdown",
   "metadata": {},
   "source": [
    "## 1. Load data\n",
    "The data set is pre-cleaned leaving only respondents with narrative. In this process, I keep only the 'Consumer.complaint.narrative' and 'Sub.issue'"
   ]
  },
  {
   "cell_type": "code",
   "execution_count": 3,
   "metadata": {},
   "outputs": [],
   "source": [
    "complaints_df = pd.read_csv('OneDrive/consumer_narrative.csv',nrows=50000)"
   ]
  },
  {
   "cell_type": "code",
   "execution_count": 5,
   "metadata": {},
   "outputs": [],
   "source": [
    "df = complaints_df[['Consumer.complaint.narrative','Sub.issue']]"
   ]
  },
  {
   "cell_type": "markdown",
   "metadata": {},
   "source": [
    "remove na"
   ]
  },
  {
   "cell_type": "code",
   "execution_count": 6,
   "metadata": {},
   "outputs": [],
   "source": [
    "df.dropna(axis=0,inplace=True) #dropping na"
   ]
  },
  {
   "cell_type": "markdown",
   "metadata": {},
   "source": [
    "## 2. Preprocessing"
   ]
  },
  {
   "cell_type": "markdown",
   "metadata": {},
   "source": [
    "Performing basic preprocessing steps is very important before we get to the model building part. Using messy and uncleaned text data is a potentially disastrous move. So in this step, we will drop all the unwanted symbols, characters, etc. from the text that do not affect the objective of our problem.\n",
    "\n",
    "Here is the dictionary that we will use for expanding the contractions:"
   ]
  },
  {
   "cell_type": "code",
   "execution_count": 7,
   "metadata": {},
   "outputs": [],
   "source": [
    "contraction_mapping = {\"ain't\": \"is not\", \"aren't\": \"are not\",\"can't\": \"cannot\", \"'cause\": \"because\", \"could've\": \"could have\", \"couldn't\": \"could not\",\n",
    "                           \"didn't\": \"did not\",  \"doesn't\": \"does not\", \"don't\": \"do not\", \"hadn't\": \"had not\", \"hasn't\": \"has not\", \"haven't\": \"have not\",\n",
    "                           \"he'd\": \"he would\",\"he'll\": \"he will\", \"he's\": \"he is\", \"how'd\": \"how did\", \"how'd'y\": \"how do you\", \"how'll\": \"how will\", \"how's\": \"how is\",\n",
    "                           \"I'd\": \"I would\", \"I'd've\": \"I would have\", \"I'll\": \"I will\", \"I'll've\": \"I will have\",\"I'm\": \"I am\", \"I've\": \"I have\", \"i'd\": \"i would\",\n",
    "                           \"i'd've\": \"i would have\", \"i'll\": \"i will\",  \"i'll've\": \"i will have\",\"i'm\": \"i am\", \"i've\": \"i have\", \"isn't\": \"is not\", \"it'd\": \"it would\",\n",
    "                           \"it'd've\": \"it would have\", \"it'll\": \"it will\", \"it'll've\": \"it will have\",\"it's\": \"it is\", \"let's\": \"let us\", \"ma'am\": \"madam\",\n",
    "                           \"mayn't\": \"may not\", \"might've\": \"might have\",\"mightn't\": \"might not\",\"mightn't've\": \"might not have\", \"must've\": \"must have\",\n",
    "                           \"mustn't\": \"must not\", \"mustn't've\": \"must not have\", \"needn't\": \"need not\", \"needn't've\": \"need not have\",\"o'clock\": \"of the clock\",\n",
    "                           \"oughtn't\": \"ought not\", \"oughtn't've\": \"ought not have\", \"shan't\": \"shall not\", \"sha'n't\": \"shall not\", \"shan't've\": \"shall not have\",\n",
    "                           \"she'd\": \"she would\", \"she'd've\": \"she would have\", \"she'll\": \"she will\", \"she'll've\": \"she will have\", \"she's\": \"she is\",\n",
    "                           \"should've\": \"should have\", \"shouldn't\": \"should not\", \"shouldn't've\": \"should not have\", \"so've\": \"so have\",\"so's\": \"so as\",\n",
    "                           \"this's\": \"this is\",\"that'd\": \"that would\", \"that'd've\": \"that would have\", \"that's\": \"that is\", \"there'd\": \"there would\",\n",
    "                           \"there'd've\": \"there would have\", \"there's\": \"there is\", \"here's\": \"here is\",\"they'd\": \"they would\", \"they'd've\": \"they would have\",\n",
    "                           \"they'll\": \"they will\", \"they'll've\": \"they will have\", \"they're\": \"they are\", \"they've\": \"they have\", \"to've\": \"to have\",\n",
    "                           \"wasn't\": \"was not\", \"we'd\": \"we would\", \"we'd've\": \"we would have\", \"we'll\": \"we will\", \"we'll've\": \"we will have\", \"we're\": \"we are\",\n",
    "                           \"we've\": \"we have\", \"weren't\": \"were not\", \"what'll\": \"what will\", \"what'll've\": \"what will have\", \"what're\": \"what are\",\n",
    "                           \"what's\": \"what is\", \"what've\": \"what have\", \"when's\": \"when is\", \"when've\": \"when have\", \"where'd\": \"where did\", \"where's\": \"where is\",\n",
    "                           \"where've\": \"where have\", \"who'll\": \"who will\", \"who'll've\": \"who will have\", \"who's\": \"who is\", \"who've\": \"who have\",\n",
    "                           \"why's\": \"why is\", \"why've\": \"why have\", \"will've\": \"will have\", \"won't\": \"will not\", \"won't've\": \"will not have\",\n",
    "                           \"would've\": \"would have\", \"wouldn't\": \"would not\", \"wouldn't've\": \"would not have\", \"y'all\": \"you all\",\n",
    "                           \"y'all'd\": \"you all would\",\"y'all'd've\": \"you all would have\",\"y'all're\": \"you all are\",\"y'all've\": \"you all have\",\n",
    "                           \"you'd\": \"you would\", \"you'd've\": \"you would have\", \"you'll\": \"you will\", \"you'll've\": \"you will have\",\n",
    "                           \"you're\": \"you are\", \"you've\": \"you have\"}"
   ]
  },
  {
   "cell_type": "markdown",
   "metadata": {},
   "source": [
    "We will perform the below preprocessing tasks for our data:\n",
    "\n",
    "1.Convert everything to lowercase\n",
    "\n",
    "2.Remove XXXX\n",
    "\n",
    "3.Contraction mapping\n",
    "\n",
    "4.Remove (‘s)\n",
    "\n",
    "5.Remove any text inside the parenthesis ( )\n",
    "\n",
    "6.Eliminate punctuations and special characters\n",
    "\n",
    "7.Remove stopwords\n",
    "\n",
    "8.Remove short words\n",
    "\n",
    "Let’s define the function:"
   ]
  },
  {
   "cell_type": "code",
   "execution_count": 8,
   "metadata": {},
   "outputs": [],
   "source": [
    "stop_words = set(stopwords.words('english')) \n",
    "\n",
    "def text_cleaner(text,num):\n",
    "    newString = text.lower()\n",
    "    newString = re.sub(r'x{2,}', '', newString) #remove 'xxx','xx','xxxxx'....\n",
    "    newString = re.sub(r'\\([^)]*\\)', '', newString)\n",
    "    newString = re.sub('\"','', newString)\n",
    "    newString = ' '.join([contraction_mapping[t] if t in contraction_mapping else t for t in newString.split(\" \")])    \n",
    "    newString = re.sub(r\"'s\\b\",\"\",newString)\n",
    "    newString = re.sub(\"[^a-zA-Z]\", \" \", newString) \n",
    "    newString = re.sub('[m]{2,}', 'mm', newString)\n",
    "    if(num==0):\n",
    "        tokens = [w for w in newString.split() if not w in stop_words]\n",
    "    else:\n",
    "        tokens=newString.split()\n",
    "    long_words=[]\n",
    "    for i in tokens:\n",
    "        if len(i)>1:                                                 #removing short word\n",
    "            long_words.append(i)   \n",
    "    return (\" \".join(long_words)).strip()"
   ]
  },
  {
   "cell_type": "code",
   "execution_count": 9,
   "metadata": {},
   "outputs": [],
   "source": [
    "cleaned_narrative = []\n",
    "for t in df['Consumer.complaint.narrative']:\n",
    "    cleaned_narrative.append(text_cleaner(t,0))"
   ]
  },
  {
   "cell_type": "code",
   "execution_count": 10,
   "metadata": {},
   "outputs": [
    {
     "data": {
      "text/plain": [
       "['transworld systems inc trying collect debt mine owed inaccurate',\n",
       " 'would like request suppression following items credit report result falling victim identity theft information relate transactions made accounts opened attached supporting documentation attest blocked appearing credit report pursuant section fair credit reporting act',\n",
       " 'past weeks receiving excessive amounts telephone calls company listed complaint calls occur cell job company right harass work want stop extremely distracting told times day call collection agency work',\n",
       " 'checking credit report noticed three collections company called ars unfamiliar disputed collections replied contacted creditor creditor verified debt asked proof bureaus replied required prove anything mailed certified letter ars requesting proof debts form original aggrement proof right debt even much process bill calculated simply replied letter collection claim listed name account number amount information verify debts sent clear notice provide evidence afterwards recontacted redispute premise debt evidence drawn feel personally victimized ars credit report debts owed party matter feel discouraged credit bureaus control many aspects personal finances negligent information',\n",
       " 'would like credit bureau correct balance correct balance']"
      ]
     },
     "execution_count": 10,
     "metadata": {},
     "output_type": "execute_result"
    }
   ],
   "source": [
    "cleaned_narrative[:5]"
   ]
  },
  {
   "cell_type": "code",
   "execution_count": 11,
   "metadata": {},
   "outputs": [],
   "source": [
    "cleaned_issue = []\n",
    "for t in df['Sub.issue']:\n",
    "    cleaned_issue.append(text_cleaner(t,1))"
   ]
  },
  {
   "cell_type": "code",
   "execution_count": 12,
   "metadata": {},
   "outputs": [
    {
     "data": {
      "text/plain": [
       "['debt is not yours',\n",
       " 'information belongs to someone else',\n",
       " 'frequent or repeated calls',\n",
       " 'debt is not yours',\n",
       " 'account information incorrect',\n",
       " 'personal information incorrect',\n",
       " 'personal information incorrect',\n",
       " 'their investigation did not fix an error on your report',\n",
       " 'their investigation did not fix an error on your report',\n",
       " 'credit inquiries on your report that you do not recognize']"
      ]
     },
     "execution_count": 12,
     "metadata": {},
     "output_type": "execute_result"
    }
   ],
   "source": [
    "cleaned_issue[:10]"
   ]
  },
  {
   "cell_type": "code",
   "execution_count": 13,
   "metadata": {},
   "outputs": [],
   "source": [
    "df['cleaned_narrative']=cleaned_narrative\n",
    "df['cleaned_issue']=cleaned_issue"
   ]
  },
  {
   "cell_type": "code",
   "execution_count": 14,
   "metadata": {},
   "outputs": [],
   "source": [
    "df.replace('', np.nan, inplace=True)#drop na\n",
    "df.dropna(axis=0,inplace=True)"
   ]
  },
  {
   "cell_type": "markdown",
   "metadata": {},
   "source": [
    "## 3. Understanding the distribution of the sequences"
   ]
  },
  {
   "cell_type": "code",
   "execution_count": 15,
   "metadata": {},
   "outputs": [
    {
     "data": {
      "image/png": "[encoded data removed]",
      "text/plain": [
       "<Figure size 432x288 with 2 Axes>"
      ]
     },
     "metadata": {
      "needs_background": "light"
     },
     "output_type": "display_data"
    }
   ],
   "source": [
    "import matplotlib.pyplot as plt\n",
    "\n",
    "narrative_word_count = []\n",
    "issue_word_count = []\n",
    "\n",
    "# populate the lists with sentence lengths\n",
    "for i in df['cleaned_narrative']:\n",
    "      narrative_word_count.append(len(i.split()))\n",
    "\n",
    "for i in df['cleaned_issue']:\n",
    "      issue_word_count.append(len(i.split()))\n",
    "\n",
    "length_df = pd.DataFrame({'narrative':narrative_word_count, 'issue':issue_word_count})\n",
    "\n",
    "length_df.hist(bins = 30)\n",
    "plt.show()"
   ]
  },
  {
   "cell_type": "code",
   "execution_count": 16,
   "metadata": {},
   "outputs": [
    {
     "name": "stdout",
     "output_type": "stream",
     "text": [
      "1.0\n"
     ]
    }
   ],
   "source": [
    "cnt=0\n",
    "for i in df['cleaned_issue']:\n",
    "    if(len(i.split())<=16):\n",
    "        cnt=cnt+1\n",
    "print(cnt/len(df['cleaned_issue']))# set the max number of summary to 16"
   ]
  },
  {
   "cell_type": "code",
   "execution_count": 17,
   "metadata": {},
   "outputs": [
    {
     "name": "stdout",
     "output_type": "stream",
     "text": [
      "0.6441916389197189\n"
     ]
    }
   ],
   "source": [
    "cnt=0\n",
    "for i in df['cleaned_narrative']:\n",
    "    if(len(i.split())<=70):\n",
    "        cnt=cnt+1\n",
    "print(cnt/len(df['cleaned_narrative']))# set the max number of text to 70"
   ]
  },
  {
   "cell_type": "markdown",
   "metadata": {},
   "source": [
    "Let us select the reviews and summaries whose length falls below or equal to max_text_len and max_summary_len"
   ]
  },
  {
   "cell_type": "code",
   "execution_count": 18,
   "metadata": {},
   "outputs": [],
   "source": [
    "max_narrative_len=70\n",
    "max_issue_len=16"
   ]
  },
  {
   "cell_type": "code",
   "execution_count": 19,
   "metadata": {},
   "outputs": [],
   "source": [
    "cleaned_narrative =np.array(df['cleaned_narrative'])\n",
    "cleaned_issue=np.array(df['cleaned_issue'])\n",
    "\n",
    "short_text=[]\n",
    "short_summary=[]\n",
    "\n",
    "for i in range(len(cleaned_narrative)):\n",
    "    if(len(cleaned_issue[i].split())<=max_issue_len and len(cleaned_narrative[i].split())<=max_narrative_len):\n",
    "        short_text.append(cleaned_narrative[i])\n",
    "        short_summary.append(cleaned_issue[i])\n",
    "        \n",
    "data=pd.DataFrame({'narrative':short_text,'issue':short_summary})"
   ]
  },
  {
   "cell_type": "markdown",
   "metadata": {},
   "source": [
    "Add start and end"
   ]
  },
  {
   "cell_type": "code",
   "execution_count": 20,
   "metadata": {},
   "outputs": [],
   "source": [
    "data['issue'] = data['issue'].apply(lambda x : 'sostok '+ x + ' eostok')"
   ]
  },
  {
   "cell_type": "markdown",
   "metadata": {},
   "source": [
    "## 4. Split our dataset into a training and validation set. I will use 90% of the dataset as the training data and evaluate the performance on the remaining 10% "
   ]
  },
  {
   "cell_type": "code",
   "execution_count": 21,
   "metadata": {},
   "outputs": [],
   "source": [
    "from sklearn.model_selection import train_test_split\n",
    "x_tr,x_val,y_tr,y_val=train_test_split(np.array(data['narrative']),np.array(data['issue']),test_size=0.1,random_state=0,shuffle=True)"
   ]
  },
  {
   "cell_type": "markdown",
   "metadata": {},
   "source": [
    "## 5. Preparing the Tokenizer"
   ]
  },
  {
   "cell_type": "markdown",
   "metadata": {},
   "source": [
    "Text Tokenizer"
   ]
  },
  {
   "cell_type": "code",
   "execution_count": 22,
   "metadata": {},
   "outputs": [],
   "source": [
    "from keras.preprocessing.text import Tokenizer \n",
    "from keras.preprocessing.sequence import pad_sequences\n",
    "\n",
    "#prepare a tokenizer for narrative on training data\n",
    "x_tokenizer = Tokenizer() \n",
    "x_tokenizer.fit_on_texts(list(x_tr))"
   ]
  },
  {
   "cell_type": "markdown",
   "metadata": {},
   "source": [
    "Rarewords and its Coverage\n",
    "Here, I am defining the threshold to be 4 which means word whose count is below 4 is considered as a rare word"
   ]
  },
  {
   "cell_type": "code",
   "execution_count": 23,
   "metadata": {},
   "outputs": [
    {
     "name": "stdout",
     "output_type": "stream",
     "text": [
      "% of rare words in vocabulary: 60.29060509554141\n",
      "Total Coverage of rare words: 1.539298128389761\n"
     ]
    }
   ],
   "source": [
    "thresh=4\n",
    "cnt=0\n",
    "tot_cnt=0\n",
    "freq=0\n",
    "tot_freq=0\n",
    "\n",
    "for key,value in x_tokenizer.word_counts.items():\n",
    "    tot_cnt=tot_cnt+1\n",
    "    tot_freq=tot_freq+value\n",
    "    if(value<thresh):\n",
    "        cnt=cnt+1\n",
    "        freq=freq+value\n",
    "    \n",
    "print(\"% of rare words in vocabulary:\",(cnt/tot_cnt)*100)\n",
    "print(\"Total Coverage of rare words:\",(freq/tot_freq)*100)"
   ]
  },
  {
   "cell_type": "code",
   "execution_count": 24,
   "metadata": {},
   "outputs": [],
   "source": [
    "#prepare a tokenizer for narrative on training data\n",
    "x_tokenizer = Tokenizer(num_words=tot_cnt-cnt) \n",
    "x_tokenizer.fit_on_texts(list(x_tr))\n",
    "\n",
    "#convert text sequences into integer sequences\n",
    "x_tr_seq    =   x_tokenizer.texts_to_sequences(x_tr) \n",
    "x_val_seq   =   x_tokenizer.texts_to_sequences(x_val)\n",
    "\n",
    "#padding zero upto maximum length\n",
    "x_tr    =   pad_sequences(x_tr_seq,  maxlen=max_narrative_len, padding='post')\n",
    "x_val   =   pad_sequences(x_val_seq, maxlen=max_narrative_len, padding='post')\n",
    "\n",
    "#size of vocabulary ( +1 for padding token)\n",
    "x_voc   =  x_tokenizer.num_words + 1"
   ]
  },
  {
   "cell_type": "code",
   "execution_count": 25,
   "metadata": {},
   "outputs": [
    {
     "data": {
      "text/plain": [
       "5986"
      ]
     },
     "execution_count": 25,
     "metadata": {},
     "output_type": "execute_result"
    }
   ],
   "source": [
    "x_voc"
   ]
  },
  {
   "cell_type": "markdown",
   "metadata": {},
   "source": [
    "Issue tokenizer"
   ]
  },
  {
   "cell_type": "code",
   "execution_count": 26,
   "metadata": {},
   "outputs": [],
   "source": [
    "#prepare a tokenizer for issues on training data\n",
    "y_tokenizer = Tokenizer()\n",
    "y_tokenizer.fit_on_texts(list(y_tr))"
   ]
  },
  {
   "cell_type": "markdown",
   "metadata": {},
   "source": [
    "Rarewords and its Coverage"
   ]
  },
  {
   "cell_type": "code",
   "execution_count": 27,
   "metadata": {},
   "outputs": [
    {
     "name": "stdout",
     "output_type": "stream",
     "text": [
      "% of rare words in vocabulary: 57.49999999999999\n",
      "Total Coverage of rare words: 3.1970195806619306\n"
     ]
    }
   ],
   "source": [
    "thresh=100\n",
    "\n",
    "cnt=0\n",
    "tot_cnt=0\n",
    "freq=0\n",
    "tot_freq=0\n",
    "\n",
    "for key,value in y_tokenizer.word_counts.items():\n",
    "    tot_cnt=tot_cnt+1\n",
    "    tot_freq=tot_freq+value\n",
    "    if(value<thresh):\n",
    "        cnt=cnt+1\n",
    "        freq=freq+value\n",
    "    \n",
    "print(\"% of rare words in vocabulary:\",(cnt/tot_cnt)*100)\n",
    "print(\"Total Coverage of rare words:\",(freq/tot_freq)*100)"
   ]
  },
  {
   "cell_type": "code",
   "execution_count": 28,
   "metadata": {},
   "outputs": [],
   "source": [
    "#prepare a tokenizer for issues on training data\n",
    "y_tokenizer = Tokenizer(num_words=tot_cnt-cnt) \n",
    "y_tokenizer.fit_on_texts(list(y_tr))\n",
    "\n",
    "#convert text sequences into integer sequences\n",
    "y_tr_seq    =   y_tokenizer.texts_to_sequences(y_tr) \n",
    "y_val_seq   =   y_tokenizer.texts_to_sequences(y_val) \n",
    "\n",
    "#padding zero upto maximum length\n",
    "y_tr    =   pad_sequences(y_tr_seq, maxlen=max_issue_len, padding='post')\n",
    "y_val   =   pad_sequences(y_val_seq, maxlen=max_issue_len, padding='post')\n",
    "\n",
    "#size of vocabulary\n",
    "y_voc  =   y_tokenizer.num_words +1"
   ]
  },
  {
   "cell_type": "code",
   "execution_count": 29,
   "metadata": {},
   "outputs": [
    {
     "data": {
      "text/plain": [
       "154"
      ]
     },
     "execution_count": 29,
     "metadata": {},
     "output_type": "execute_result"
    }
   ],
   "source": [
    "y_voc"
   ]
  },
  {
   "cell_type": "code",
   "execution_count": 30,
   "metadata": {},
   "outputs": [
    {
     "data": {
      "text/plain": [
       "(25074, 25074)"
      ]
     },
     "execution_count": 30,
     "metadata": {},
     "output_type": "execute_result"
    }
   ],
   "source": [
    "y_tokenizer.word_counts['sostok'],len(y_tr)"
   ]
  },
  {
   "cell_type": "markdown",
   "metadata": {},
   "source": [
    "Here, I am deleting the rows that contain only START and END tokens"
   ]
  },
  {
   "cell_type": "code",
   "execution_count": 31,
   "metadata": {},
   "outputs": [],
   "source": [
    "ind=[]\n",
    "for i in range(len(y_tr)):\n",
    "    cnt=0\n",
    "    for j in y_tr[i]:\n",
    "        if j!=0:\n",
    "            cnt=cnt+1\n",
    "    if(cnt==2):\n",
    "        ind.append(i)\n",
    "\n",
    "y_tr=np.delete(y_tr,ind, axis=0)\n",
    "x_tr=np.delete(x_tr,ind, axis=0)"
   ]
  },
  {
   "cell_type": "code",
   "execution_count": 32,
   "metadata": {},
   "outputs": [],
   "source": [
    "ind=[]\n",
    "for i in range(len(y_val)):\n",
    "    cnt=0\n",
    "    for j in y_val[i]:\n",
    "        if j!=0:\n",
    "            cnt=cnt+1\n",
    "    if(cnt==2):\n",
    "        ind.append(i)\n",
    "\n",
    "y_val=np.delete(y_val,ind, axis=0)\n",
    "x_val=np.delete(x_val,ind, axis=0)"
   ]
  },
  {
   "cell_type": "markdown",
   "metadata": {},
   "source": [
    "## 6. Model building"
   ]
  },
  {
   "cell_type": "markdown",
   "metadata": {},
   "source": [
    "Return Sequences = True: When the return sequences parameter is set to True, LSTM produces the hidden state and cell state for every timestep\n",
    "\n",
    "Return State = True: When return state = True, LSTM produces the hidden state and cell state of the last timestep only\n",
    "\n",
    "Initial State: This is used to initialize the internal states of the LSTM for the first timestep\n",
    "\n",
    "Stacked LSTM: Stacked LSTM has multiple layers of LSTM stacked on top of each other. This leads to a better representation of the sequence. \n",
    "\n",
    "Here, we are building a 3 stacked LSTM for the encoder:"
   ]
  },
  {
   "cell_type": "code",
   "execution_count": 33,
   "metadata": {},
   "outputs": [
    {
     "name": "stdout",
     "output_type": "stream",
     "text": [
      "WARNING:tensorflow:From C:\\Users\\15377\\Anaconda3\\lib\\site-packages\\tensorflow_core\\python\\keras\\initializers.py:119: calling RandomUniform.__init__ (from tensorflow.python.ops.init_ops) with dtype is deprecated and will be removed in a future version.\n",
      "Instructions for updating:\n",
      "Call initializer instance with the dtype argument instead of passing it to the constructor\n",
      "WARNING:tensorflow:From C:\\Users\\15377\\Anaconda3\\lib\\site-packages\\tensorflow_core\\python\\ops\\resource_variable_ops.py:1630: calling BaseResourceVariable.__init__ (from tensorflow.python.ops.resource_variable_ops) with constraint is deprecated and will be removed in a future version.\n",
      "Instructions for updating:\n",
      "If using Keras pass *_constraint arguments to layers.\n",
      "Model: \"model\"\n",
      "__________________________________________________________________________________________________\n",
      "Layer (type)                    Output Shape         Param #     Connected to                     \n",
      "==================================================================================================\n",
      "input_1 (InputLayer)            [(None, 70)]         0                                            \n",
      "__________________________________________________________________________________________________\n",
      "embedding (Embedding)           (None, 70, 100)      598600      input_1[0][0]                    \n",
      "__________________________________________________________________________________________________\n",
      "lstm (LSTM)                     [(None, 70, 300), (N 481200      embedding[0][0]                  \n",
      "__________________________________________________________________________________________________\n",
      "input_2 (InputLayer)            [(None, None)]       0                                            \n",
      "__________________________________________________________________________________________________\n",
      "lstm_1 (LSTM)                   [(None, 70, 300), (N 721200      lstm[0][0]                       \n",
      "__________________________________________________________________________________________________\n",
      "embedding_1 (Embedding)         (None, None, 100)    15400       input_2[0][0]                    \n",
      "__________________________________________________________________________________________________\n",
      "lstm_2 (LSTM)                   [(None, 70, 300), (N 721200      lstm_1[0][0]                     \n",
      "__________________________________________________________________________________________________\n",
      "lstm_3 (LSTM)                   [(None, None, 300),  481200      embedding_1[0][0]                \n",
      "                                                                 lstm_2[0][1]                     \n",
      "                                                                 lstm_2[0][2]                     \n",
      "__________________________________________________________________________________________________\n",
      "attention_layer (AttentionLayer ((None, None, 300),  180300      lstm_2[0][0]                     \n",
      "                                                                 lstm_3[0][0]                     \n",
      "__________________________________________________________________________________________________\n",
      "concat_layer (Concatenate)      (None, None, 600)    0           lstm_3[0][0]                     \n",
      "                                                                 attention_layer[0][0]            \n",
      "__________________________________________________________________________________________________\n",
      "time_distributed (TimeDistribut (None, None, 154)    92554       concat_layer[0][0]               \n",
      "==================================================================================================\n",
      "Total params: 3,291,654\n",
      "Trainable params: 3,291,654\n",
      "Non-trainable params: 0\n",
      "__________________________________________________________________________________________________\n"
     ]
    }
   ],
   "source": [
    "from keras import backend as K \n",
    "K.clear_session()\n",
    "\n",
    "latent_dim = 300\n",
    "embedding_dim=100\n",
    "\n",
    "# Encoder\n",
    "encoder_inputs = Input(shape=(max_narrative_len,))\n",
    "\n",
    "#embedding layer\n",
    "enc_emb =  Embedding(x_voc, embedding_dim,trainable=True)(encoder_inputs)\n",
    "\n",
    "#encoder lstm 1\n",
    "encoder_lstm1 = LSTM(latent_dim,return_sequences=True,return_state=True,dropout=0.4,recurrent_dropout=0.4)\n",
    "encoder_output1, state_h1, state_c1 = encoder_lstm1(enc_emb)\n",
    "\n",
    "#encoder lstm 2\n",
    "encoder_lstm2 = LSTM(latent_dim,return_sequences=True,return_state=True,dropout=0.4,recurrent_dropout=0.4)\n",
    "encoder_output2, state_h2, state_c2 = encoder_lstm2(encoder_output1)\n",
    "\n",
    "#encoder lstm 3\n",
    "encoder_lstm3=LSTM(latent_dim, return_state=True, return_sequences=True,dropout=0.4,recurrent_dropout=0.4)\n",
    "encoder_outputs, state_h, state_c= encoder_lstm3(encoder_output2)\n",
    "\n",
    "# Set up the decoder, using `encoder_states` as initial state.\n",
    "decoder_inputs = Input(shape=(None,))\n",
    "\n",
    "#embedding layer\n",
    "dec_emb_layer = Embedding(y_voc, embedding_dim,trainable=True)\n",
    "dec_emb = dec_emb_layer(decoder_inputs)\n",
    "\n",
    "decoder_lstm = LSTM(latent_dim, return_sequences=True, return_state=True,dropout=0.4,recurrent_dropout=0.2)\n",
    "decoder_outputs,decoder_fwd_state, decoder_back_state = decoder_lstm(dec_emb,initial_state=[state_h, state_c])\n",
    "\n",
    "# Attention layer\n",
    "attn_layer = AttentionLayer(name='attention_layer')\n",
    "attn_out, attn_states = attn_layer([encoder_outputs, decoder_outputs])\n",
    "\n",
    "# Concat attention input and decoder LSTM output\n",
    "decoder_concat_input = Concatenate(axis=-1, name='concat_layer')([decoder_outputs, attn_out])\n",
    "\n",
    "#dense layer\n",
    "decoder_dense =  TimeDistributed(Dense(y_voc, activation='softmax'))\n",
    "decoder_outputs = decoder_dense(decoder_concat_input)\n",
    "\n",
    "# Define the model \n",
    "model = Model([encoder_inputs, decoder_inputs], decoder_outputs)\n",
    "\n",
    "model.summary()"
   ]
  },
  {
   "cell_type": "markdown",
   "metadata": {},
   "source": [
    "I am using sparse categorical cross-entropy as the loss function since it converts the integer sequence to a one-hot vector on the fly. This overcomes any memory issues."
   ]
  },
  {
   "cell_type": "code",
   "execution_count": 34,
   "metadata": {},
   "outputs": [],
   "source": [
    "model.compile(optimizer='rmsprop', loss='sparse_categorical_crossentropy')"
   ]
  },
  {
   "cell_type": "markdown",
   "metadata": {},
   "source": [
    "stop training once the validation loss increases:"
   ]
  },
  {
   "cell_type": "code",
   "execution_count": 35,
   "metadata": {},
   "outputs": [],
   "source": [
    "es = EarlyStopping(monitor='val_loss', mode='min', verbose=1,patience=2)"
   ]
  },
  {
   "cell_type": "markdown",
   "metadata": {},
   "source": [
    "We’ll train the model on a batch size of 128 and validate it on the holdout set (which is 10% of our dataset):"
   ]
  },
  {
   "cell_type": "code",
   "execution_count": 36,
   "metadata": {},
   "outputs": [
    {
     "name": "stdout",
     "output_type": "stream",
     "text": [
      "WARNING:tensorflow:From C:\\Users\\15377\\Anaconda3\\lib\\site-packages\\tensorflow_core\\python\\ops\\math_grad.py:1424: where (from tensorflow.python.ops.array_ops) is deprecated and will be removed in a future version.\n",
      "Instructions for updating:\n",
      "Use tf.where in 2.0, which has the same broadcast rule as np.where\n",
      "Train on 24902 samples, validate on 2764 samples\n",
      "Epoch 1/50\n",
      "24902/24902 [==============================] - 78s 3ms/sample - loss: 1.3236 - val_loss: 0.6132\n",
      "Epoch 2/50\n",
      "24902/24902 [==============================] - 74s 3ms/sample - loss: 0.4185 - val_loss: 0.3081\n",
      "Epoch 3/50\n",
      "24902/24902 [==============================] - 74s 3ms/sample - loss: 0.2555 - val_loss: 0.2276\n",
      "Epoch 4/50\n",
      "24902/24902 [==============================] - 75s 3ms/sample - loss: 0.2050 - val_loss: 0.2012\n",
      "Epoch 5/50\n",
      "24902/24902 [==============================] - 75s 3ms/sample - loss: 0.1854 - val_loss: 0.1873\n",
      "Epoch 6/50\n",
      "24902/24902 [==============================] - 75s 3ms/sample - loss: 0.1724 - val_loss: 0.1741\n",
      "Epoch 7/50\n",
      "24902/24902 [==============================] - 75s 3ms/sample - loss: 0.1627 - val_loss: 0.1666\n",
      "Epoch 8/50\n",
      "24902/24902 [==============================] - 77s 3ms/sample - loss: 0.1562 - val_loss: 0.1641\n",
      "Epoch 9/50\n",
      "24902/24902 [==============================] - 74s 3ms/sample - loss: 0.1505 - val_loss: 0.1634\n",
      "Epoch 10/50\n",
      "24902/24902 [==============================] - 74s 3ms/sample - loss: 0.1455 - val_loss: 0.1589\n",
      "Epoch 11/50\n",
      "24902/24902 [==============================] - 74s 3ms/sample - loss: 0.1423 - val_loss: 0.1548\n",
      "Epoch 12/50\n",
      "24902/24902 [==============================] - 74s 3ms/sample - loss: 0.1387 - val_loss: 0.1534\n",
      "Epoch 13/50\n",
      "24902/24902 [==============================] - 74s 3ms/sample - loss: 0.1352 - val_loss: 0.1551\n",
      "Epoch 14/50\n",
      "24902/24902 [==============================] - 75s 3ms/sample - loss: 0.1320 - val_loss: 0.1540\n",
      "Epoch 00014: early stopping\n"
     ]
    }
   ],
   "source": [
    "history=model.fit([x_tr,y_tr[:,:-1]], y_tr.reshape(y_tr.shape[0],y_tr.shape[1], 1)[:,1:] ,epochs=50,callbacks=[es],batch_size=128, validation_data=([x_val,y_val[:,:-1]], y_val.reshape(y_val.shape[0],y_val.shape[1], 1)[:,1:]))"
   ]
  },
  {
   "cell_type": "markdown",
   "metadata": {},
   "source": [
    "## Diagnostic plot"
   ]
  },
  {
   "cell_type": "markdown",
   "metadata": {},
   "source": [
    "Now, we will plot a few diagnostic plots to understand the behavior of the model over time:"
   ]
  },
  {
   "cell_type": "code",
   "execution_count": 37,
   "metadata": {},
   "outputs": [
    {
     "data": {
      "image/png": "[encoded data removed]",
      "text/plain": [
       "<Figure size 432x288 with 1 Axes>"
      ]
     },
     "metadata": {
      "needs_background": "light"
     },
     "output_type": "display_data"
    }
   ],
   "source": [
    "from matplotlib import pyplot\n",
    "pyplot.plot(history.history['loss'], label='train')\n",
    "pyplot.plot(history.history['val_loss'], label='test')\n",
    "pyplot.legend()\n",
    "pyplot.show()"
   ]
  },
  {
   "cell_type": "markdown",
   "metadata": {},
   "source": [
    "From the plot, we can infer that validation loss has increased after epoch 12 for 2 successive epochs. Hence, training is stopped at epoch 14.\n",
    "\n",
    "Next, let’s build the dictionary to convert the index to word for target and source vocabulary:"
   ]
  },
  {
   "cell_type": "code",
   "execution_count": 38,
   "metadata": {},
   "outputs": [],
   "source": [
    "reverse_target_word_index=y_tokenizer.index_word\n",
    "reverse_source_word_index=x_tokenizer.index_word\n",
    "target_word_index=y_tokenizer.word_index"
   ]
  },
  {
   "cell_type": "markdown",
   "metadata": {},
   "source": [
    "## 7. Inference\n",
    "Set up the inference for the encoder and decoder:"
   ]
  },
  {
   "cell_type": "code",
   "execution_count": 40,
   "metadata": {},
   "outputs": [],
   "source": [
    "# Encode the input sequence to get the feature vector\n",
    "encoder_model = Model(inputs=encoder_inputs,outputs=[encoder_outputs, state_h, state_c])\n",
    "\n",
    "# Decoder setup\n",
    "# Below tensors will hold the states of the previous time step\n",
    "decoder_state_input_h = Input(shape=(latent_dim,))\n",
    "decoder_state_input_c = Input(shape=(latent_dim,))\n",
    "decoder_hidden_state_input = Input(shape=(max_narrative_len,latent_dim))\n",
    "\n",
    "# Get the embeddings of the decoder sequence\n",
    "dec_emb2= dec_emb_layer(decoder_inputs) \n",
    "# To predict the next word in the sequence, set the initial states to the states from the previous time step\n",
    "decoder_outputs2, state_h2, state_c2 = decoder_lstm(dec_emb2, initial_state=[decoder_state_input_h, decoder_state_input_c])\n",
    "\n",
    "#attention inference\n",
    "attn_out_inf, attn_states_inf = attn_layer([decoder_hidden_state_input, decoder_outputs2])\n",
    "decoder_inf_concat = Concatenate(axis=-1, name='concat')([decoder_outputs2, attn_out_inf])\n",
    "\n",
    "# A dense softmax layer to generate prob dist. over the target vocabulary\n",
    "decoder_outputs2 = decoder_dense(decoder_inf_concat) \n",
    "\n",
    "# Final decoder model\n",
    "decoder_model = Model(\n",
    "    [decoder_inputs] + [decoder_hidden_state_input,decoder_state_input_h, decoder_state_input_c],\n",
    "    [decoder_outputs2] + [state_h2, state_c2])"
   ]
  },
  {
   "cell_type": "markdown",
   "metadata": {},
   "source": [
    "We are defining a function below which is the implementation of the inference process (which we covered here):"
   ]
  },
  {
   "cell_type": "code",
   "execution_count": 41,
   "metadata": {},
   "outputs": [],
   "source": [
    "def decode_sequence(input_seq):\n",
    "    # Encode the input as state vectors.\n",
    "    e_out, e_h, e_c = encoder_model.predict(input_seq)\n",
    "    \n",
    "    # Generate empty target sequence of length 1.\n",
    "    target_seq = np.zeros((1,1))\n",
    "    \n",
    "    # Populate the first word of target sequence with the start word.\n",
    "    target_seq[0, 0] = target_word_index['sostok']\n",
    "\n",
    "    stop_condition = False\n",
    "    decoded_sentence = ''\n",
    "    while not stop_condition:\n",
    "      \n",
    "        output_tokens, h, c = decoder_model.predict([target_seq] + [e_out, e_h, e_c])\n",
    "\n",
    "        # Sample a token\n",
    "        sampled_token_index = np.argmax(output_tokens[0, -1, :])\n",
    "        sampled_token = reverse_target_word_index[sampled_token_index]\n",
    "        \n",
    "        if(sampled_token!='eostok'):\n",
    "            decoded_sentence += ' '+sampled_token\n",
    "\n",
    "        # Exit condition: either hit max length or find stop word.\n",
    "        if (sampled_token == 'eostok'  or len(decoded_sentence.split()) >= (max_issue_len-1)):\n",
    "            stop_condition = True\n",
    "\n",
    "        # Update the target sequence (of length 1).\n",
    "        target_seq = np.zeros((1,1))\n",
    "        target_seq[0, 0] = sampled_token_index\n",
    "\n",
    "        # Update internal states\n",
    "        e_h, e_c = h, c\n",
    "\n",
    "    return decoded_sentence"
   ]
  },
  {
   "cell_type": "markdown",
   "metadata": {},
   "source": [
    "Let us define the functions to convert an integer sequence to a word sequence for summary as well as the reviews:"
   ]
  },
  {
   "cell_type": "code",
   "execution_count": 42,
   "metadata": {},
   "outputs": [],
   "source": [
    "def seq2summary(input_seq):\n",
    "    newString=''\n",
    "    for i in input_seq:\n",
    "        if((i!=0 and i!=target_word_index['sostok']) and i!=target_word_index['eostok']):\n",
    "            newString=newString+reverse_target_word_index[i]+' '\n",
    "    return newString\n",
    "\n",
    "def seq2text(input_seq):\n",
    "    newString=''\n",
    "    for i in input_seq:\n",
    "        if(i!=0):\n",
    "            newString=newString+reverse_source_word_index[i]+' '\n",
    "    return newString"
   ]
  },
  {
   "cell_type": "markdown",
   "metadata": {},
   "source": [
    "Here are a few summaries generated by the model:"
   ]
  },
  {
   "cell_type": "code",
   "execution_count": 43,
   "metadata": {},
   "outputs": [
    {
     "name": "stdout",
     "output_type": "stream",
     "text": [
      "Complaint: trans union dropped credit score pts paid entire remaining balance loan instead credit score going paying loan dropped pts account closed taking pain efforts stay debt paying debts im getting punished owning enough money enough debtors wrong \n",
      "Original issue: account status incorrect \n",
      "Predicted issue:  account status incorrect\n",
      "\n",
      "\n",
      "Complaint: car loan report years illegal \n",
      "Original issue: old information reappears or never goes away \n",
      "Predicted issue:  did not receive enough information to verify debt\n",
      "\n",
      "\n",
      "Complaint: sold paid debt national credit system information continue update accurate \n",
      "Original issue: debt was paid \n",
      "Predicted issue:  debt was paid\n",
      "\n",
      "\n",
      "Complaint: credit report displayed charged closes month later begin age date fraudulently submitting began making payments dating back untrue fraud made payments account company caused able acquire loans support family severe injustice rights sent letters credit bureaus asking verify information delete account incorrect information submitted bureaus response account updated updating fraudulent account fact help direct violation fair credit reporting act aging debt illegal \n",
      "Original issue: account information incorrect \n",
      "Predicted issue:  account information incorrect\n",
      "\n",
      "\n",
      "Complaint: fraudulent charging activity checking account recipient total charges total refunded bank balance could refunded due remaining charges months old contacted times phone remaining charges reversed promised phone reverse later refused reverse charges outside charges fraudulent charges remain months old \n",
      "Original issue: transaction was not authorized \n",
      "Predicted issue:  funds not handled or as\n",
      "\n",
      "\n",
      "Complaint: credit reporting agencies continue report false incorrect bankruptcy \n",
      "Original issue: public record information inaccurate \n",
      "Predicted issue:  their investigation did not fix an error on your report\n",
      "\n",
      "\n",
      "Complaint: arizona address listed name credit report never lived state someone used name ssn establish identify \n",
      "Original issue: information belongs to someone else \n",
      "Predicted issue:  information belongs to someone else\n",
      "\n",
      "\n",
      "Complaint: purchased adjustable gold price day received items credit card company contacted merchant well avail credit card company reached stage said involved matter contact made directly merchant tried merchant via numerous emails resolution made promises attached communications \n",
      "Original issue: credit card company is not resolving dispute about purchase on your statement \n",
      "Predicted issue:  credit card company is not resolving dispute about purchase on your statement\n",
      "\n",
      "\n",
      "Complaint: sent request credit bureaus investigate five errors currently appear credit file supposed respond within days however days passed yet receive responses \n",
      "Original issue: investigation took more than days \n",
      "Predicted issue:  investigation took more than days\n",
      "\n",
      "\n",
      "Complaint: account auto pay since get alert account missed payment untrue tried reach company appears went business phone number work nothing meanwhile major credit agencies notified back yet receive update called saying submitted dispute lie getting run around \n",
      "Original issue: account status incorrect \n",
      "Predicted issue:  account status incorrect\n",
      "\n",
      "\n",
      "Complaint: equifax showing letting see free copy credit report \n",
      "Original issue: information belongs to someone else \n",
      "Predicted issue:  personal information incorrect\n",
      "\n",
      "\n",
      "Complaint: joint loan ex husband company time investment company funded loan calls multiple times day hours especially right already informed going divorce divorce decree states responsible half insist must make payment say money received take household expenses say well shy cannot make payment today already told money right take care also asked stop calling refuse tell calls continue \n",
      "Original issue: frequent or repeated calls \n",
      "Predicted issue:  frequent or repeated calls\n",
      "\n",
      "\n",
      "Complaint: loans serviced navient noticed recently loan disbursement dates listed match time school loans owned another bank would like full inquiry loans servicing show date distribution attend school moved requested full validation account payments made previous servicer balance keeps getting higher \n",
      "Original issue: received bad information about your loan \n",
      "Predicted issue:  trouble with how payments are being handled\n",
      "\n",
      "\n",
      "Complaint: issue refunding amount back account unauthorized transactions made complete thorough investigation transactions history use card three fraudulent transactions approved account amount amount amount sent information police report identity theft incident occurred please help getting money back dealing coming year anything else needed please contact phone email thank \n",
      "Original issue: charged for purchase or you did not with the card \n",
      "Predicted issue:  card opened as result of identity theft or fraud\n",
      "\n",
      "\n",
      "Complaint: discovered visa credit card credit report called bank said opened account two years earlier reviewed records believe account mine contacted told account mine close asap account balance refuse remove account credit report \n",
      "Original issue: information belongs to someone else \n",
      "Predicted issue:  information belongs to someone else\n",
      "\n",
      "\n",
      "Complaint: credit score decreased points inquiry syncb little research found short synchrony bank florida answer calls get back whatsoever even says website think theyve mistakenly reported credit information write address little digging seems nobody issue gets response \n",
      "Original issue: credit inquiries on your report that you do not recognize \n",
      "Predicted issue:  credit inquiries on your report that you do not recognize\n",
      "\n",
      "\n",
      "Complaint: looks like bunch car dealerships pulled credit report authorized new car bought two years ago looking new car anytime soon done without authorization obviously constitutes fraud \n",
      "Original issue: credit inquiries on your report that you do not recognize \n",
      "Predicted issue:  credit inquiries on your report that you do not recognize\n",
      "\n",
      "\n",
      "Complaint: sent complaint stated find debt stating allegedly owe able report negative information credit report requested information three times show debt received anything responded number stated credit report still heard still credit report need sue damages finally remove would like resolution issue respond drop \n",
      "Original issue: debt is not yours \n",
      "Predicted issue:  did not receive enough information to verify debt\n",
      "\n",
      "\n",
      "Complaint: employment data reported equifax credit report inaccurate want following accurate information reported listed equifax credit report employer name position position salary \n",
      "Original issue: personal information incorrect \n",
      "Predicted issue:  personal information incorrect\n",
      "\n",
      "\n",
      "Complaint: owed debt citibank handed debt took court back awarded judgement making month payments ever since contacted told debt given paid sent letter stating debt settled received letter attorney stating owed recall exact date called explained paid debt sent copy letter stating paid full received another letter stating still owe debt never authorized agency collect called citibank explain happened directed \n",
      "Original issue: debt was paid \n",
      "Predicted issue:  debt was paid\n",
      "\n",
      "\n",
      "Complaint: dear cfpb made huge erroneous mistake credit report may know disputing items credit report open dispute two credit cards opened two months ago deleted credit report deleted credit file transunion credit file reporting months balance never disputed account per letters sent copies cfpb ask please disregard dispute error done possible please start reporting credit bureaus \n",
      "Original issue: information is missing that should be on the report \n",
      "Predicted issue:  their investigation did not fix an error on your report\n",
      "\n",
      "\n",
      "Complaint: incidents id fraud past years equifax date open high balance date open high balance items included police report attached complaint included ftc affidavit also accompanying complaint creditors requested get police report would even speak said accounts produced documents required clear issue yet items continue reflect negatively credit rating accounts opened removed immediately accounts open seems strange items appeared month year \n",
      "Original issue: information belongs to someone else \n",
      "Predicted issue:  information belongs to someone else\n",
      "\n",
      "\n",
      "Complaint: accounts reporting report belong tried get remove \n",
      "Original issue: information belongs to someone else \n",
      "Predicted issue:  information belongs to someone else\n",
      "\n",
      "\n",
      "Complaint: checking recent credit report noticed credit inquiry authorize made following company inquiry violation fair credit reporting act section serious breach privacy rights please validate information companies provide copies documentation associated accounts bearing signature authorizing inquiry absence documentation bearing signature formally request fraudulent inquiries immediately deleted credit file maintain social security number please note days complete investigation per fair credit reporting act section \n",
      "Original issue: credit inquiries on your report that you do not recognize \n",
      "Predicted issue:  credit inquiries on your report that you do not recognize\n",
      "\n",
      "\n",
      "Complaint: please see identitytheft gov form list fraudulent accounts along corresponding fraudulent inquiries fraudulent addresses regardless sending experian information removed fraudulent listings credit report \n",
      "Original issue: information belongs to someone else \n",
      "Predicted issue:  information belongs to someone else\n",
      "\n",
      "\n",
      "Complaint: performant recovery harassing amount phone calls receive call everyday multiple times throughout day also called repeatedly also calling place employment everyday throughout day even faxed employment several times also contacted neighbors several occasions neighbors resort blocking contact provide phone records call history company well call fax history employer \n",
      "Original issue: frequent or repeated calls \n",
      "Predicted issue:  frequent or repeated calls\n",
      "\n",
      "\n",
      "Complaint: never receive notification company owe debt receive copy report company listed debt collector never receive letter notification debt knowledge owe still customer years contact company knowledge collection agency try collect balance owe collection agency license collect state tennessee \n",
      "Original issue: threatened or suggested your credit would be damaged \n",
      "Predicted issue:  did not receive notice of right to dispute\n",
      "\n",
      "\n",
      "Complaint: region bank credit inquiry wishes gave permission run credit inquiry would like remove credit inquiries credit bureau used \n",
      "Original issue: credit inquiries on your report that you do not recognize \n",
      "Predicted issue:  credit inquiries on your report that you do not recognize\n",
      "\n",
      "\n",
      "Complaint: experian reporting incorrectly day late partial account number normally receive paper statement month account delivered us mail never received statement realized never received bill immediately paid payment made time however apply payment timely manner zinged late payment incorrect reporting harming credit score late needs removed credit report contacted bureaus fix however successful \n",
      "Original issue: their investigation did not fix an error on your report \n",
      "Predicted issue:  their investigation did not fix an error on your report\n",
      "\n",
      "\n",
      "Complaint: recently went check new car careful consideration decided apply loan car moments later declined lower interest rate approved extremely high interest rate prompted check credit report noticed couple items report mine items need deleted credit report chapter bankruptcy also inquiries credit report either \n",
      "Original issue: information belongs to someone else \n",
      "Predicted issue:  information belongs to someone else\n",
      "\n",
      "\n",
      "Complaint: recently went apply home loan bank told pay students loans reapply told bank never students loans provided creditor name number contact investigate account disputed accounts multiple time creditor credit bureau results three major creditor bureau marked accounts disputed inconvenience seeing trying move forward home loan like student loans removed credit file immediately \n",
      "Original issue: information belongs to someone else \n",
      "Predicted issue:  information belongs to someone else\n",
      "\n",
      "\n",
      "Complaint: filling credit reports advising never open account acct thing even last name right goes show account even mines far midland acct according lenders account open fl fl sent companies proof address lived last years fl even proof sent still state information provided correct information figure proof submitted electricity company \n",
      "Original issue: old information reappears or never goes away \n",
      "Predicted issue:  debt is not yours\n",
      "\n",
      "\n",
      "Complaint: inquiries account kohls capone called kohls dispute inquiry request letter deletion direction kohls stated could verify investigate could give letter deletion also pulled credit without permission idea creditor also credit inquiry authorize inquiry \n",
      "Original issue: credit inquiries on your report that you do not recognize \n",
      "Predicted issue:  credit inquiries on your report that you do not recognize\n",
      "\n",
      "\n",
      "Complaint: looking report noticed address phone numbers mines accurate please remove following items co nj nj pa \n",
      "Original issue: personal information incorrect \n",
      "Predicted issue:  information belongs to someone else\n",
      "\n",
      "\n",
      "Complaint: activate financial trying collect debt years ago discharged allowed harass medical medicare income whatsoever statute limitations applies debt category california statute limitations period debts years debts longer statutes allow often referred time barred debts want told stop trying collect \n",
      "Original issue: threatened to sue you for very old debt \n",
      "Predicted issue:  debt was paid\n",
      "\n",
      "\n",
      "Complaint: believe creditor negative collection every one credit bureaus misunderstanding responsible party account husband passed away years ago account belonged responsible party therefore respectfully request credit bureaus intervene see applies rights fair credit reporting act delete account every credit bureau respectfully \n",
      "Original issue: their investigation did not fix an error on your report \n",
      "Predicted issue:  information belongs to someone else\n",
      "\n",
      "\n",
      "Complaint: iq data int wa placed false debt credit report previous sent letter stating days respond sent letter within days asking prove valid debt also spoke phone told valid debt mine ever send proof fact valid debt want debt removed credit file also sent disputes credit reporting agencies \n",
      "Original issue: debt is not yours \n",
      "Predicted issue:  debt is not yours\n",
      "\n",
      "\n",
      "Complaint: incarcerated years im trouble credit released someone access personal information things removed somethings came right back collection agency contacting family accounts belong name spelled incorrectly social security belong away prison give anyone permission access personal information apply credit opened amount opened amount opened amount opened \n",
      "Original issue: information belongs to someone else \n",
      "Predicted issue:  information belongs to someone else\n",
      "\n",
      "\n",
      "Complaint: inquirys places havent even want report \n",
      "Original issue: credit inquiries on your report that you do not recognize \n",
      "Predicted issue:  credit inquiries on your report that you do not recognize\n",
      "\n",
      "\n",
      "Complaint: reached back last year regarding items credit still items credit contacted ftc local police behalf \n",
      "Original issue: information belongs to someone else \n",
      "Predicted issue:  information belongs to someone else\n",
      "\n",
      "\n",
      "Complaint: hard inquiry credit report get company never went car dealer purchase vehicle called number credit report goes voice mail \n",
      "Original issue: credit inquiries on your report that you do not recognize \n",
      "Predicted issue:  credit inquiries on your report that you do not recognize\n",
      "\n",
      "\n",
      "Complaint: attempted use credit card around repeatedly declined contacted customer service representative told account suspended without notice prior action even possibility action \n",
      "Original issue: cannot card to \n",
      "Predicted issue:  credit card company is not resolving dispute about purchase on your statement\n",
      "\n",
      "\n",
      "Complaint: sent two letters company verify two debts none letters replied \n",
      "Original issue: did not receive enough information to verify debt \n",
      "Predicted issue:  did not receive enough information to verify debt\n",
      "\n",
      "\n",
      "Complaint: alleged debt violates fdcpa regulations authorized user therefore legally responsible debt collection agency also violating texas finance code incorrectly reporting debt credit bureaus company failed provide written documentation signed alleged debt executed agreement financially legally responsible repay alleged debt \n",
      "Original issue: information belongs to someone else \n",
      "Predicted issue:  debt is not yours\n",
      "\n",
      "\n",
      "Complaint: requested payoff amount loan subsequent adjustment auto pay amount payment allocated entirely loan auto pay loan payments cancelled resulting removal interest rate reduction meaning take longer pay loan \n",
      "Original issue: trouble with how payments are being handled \n",
      "Predicted issue:  trouble with how payments are being handled\n",
      "\n",
      "\n",
      "Complaint: inquiries disputed belong unaware inquiries placed credit give authorization companies thats credit file \n",
      "Original issue: credit inquiries on your report that you do not recognize \n",
      "Predicted issue:  credit inquiries on your report that you do not recognize\n",
      "\n",
      "\n",
      "Complaint: contacted midland funding around given phone number contacted spoke ext recorded agreement made would pay account account two separate checks sent via certified mail checks received cashed told would send information yet received well report funding payments received false information continues reported credit bureaus also reported credit bureau reporting information said payments made midland funding reports verified copies checks cashed would like information refusing submit \n",
      "Original issue: debt was paid \n",
      "Predicted issue:  debt was paid\n",
      "\n",
      "\n",
      "Complaint: commonwealth financial systems violation fdcpa hippa laws reporting fraudulent account also sharing fraudulent medical information publicly never gave commonwealth financial systems permission share personal information name also damaging credit \n",
      "Original issue: debt was result of identity theft \n",
      "Predicted issue:  debt was result of identity theft\n",
      "\n",
      "\n",
      "Complaint: inquiries within last weeks authorize one card services take place went see anything file name hard inquiries within couple weeks authorize leads believe victim fraud \n",
      "Original issue: credit inquiries on your report that you do not recognize \n",
      "Predicted issue:  credit inquiries on your report that you do not recognize\n",
      "\n",
      "\n",
      "Complaint: failed removed hard inquiry three credit reports continue follow transunion credit inquiries remain \n",
      "Original issue: credit inquiries on your report that you do not recognize \n",
      "Predicted issue:  credit inquiries on your report that you do not recognize\n",
      "\n",
      "\n",
      "Complaint: victim government shutdown afford make payments time company insists payment continues call need defer payments least nine months \n",
      "Original issue: credit card company not with you you are \n",
      "Predicted issue:  problem with fees\n",
      "\n",
      "\n",
      "Complaint: medicredit collection agency keeps placing supposed debts credit bureau without contacting regarding debts prior adding credit file items question paid insurance still posted credit file items removed constantly lowering credit score company even went far put account collections twice \n",
      "Original issue: debt was paid \n",
      "Predicted issue:  debt was paid\n",
      "\n",
      "\n",
      "Complaint: mn made derogatory reporting report called try resolve issue told accounts account recently purchased reported derogatory told original account \n",
      "Original issue: old information reappears or never goes away \n",
      "Predicted issue:  did not receive notice of right to dispute\n",
      "\n",
      "\n",
      "Complaint: recently reviewed credit reports noticed hard hit inquiry made citi recall authorizing victim identity theft regularly monitor credit reports called citi several occasions attempt resolving matter unfortunately success recent call occurred today like previous calls hard hit inquiry confirmed authorized made permissible purpose like previous phone contact citi representative one unprofessional asked speak supervisor simply disconnected phone call \n",
      "Original issue: credit inquiries on your report that you do not recognize \n",
      "Predicted issue:  credit inquiries on your report that you do not recognize\n",
      "\n",
      "\n",
      "Complaint: reporting incorrectly equifax collection amount account number account paid full outstanding balance due incorrect reporting violation fair credit reporting act consequently harming credit score \n",
      "Original issue: their investigation did not fix an error on your report \n",
      "Predicted issue:  their investigation did not fix an error on your report\n",
      "\n",
      "\n",
      "Complaint: transunion reporting incorrectly days past due account partial account numbers accounts reflect balance past due contacted two bureaus requested coding errors corrected incorrect reporting harming credit score impossible past due accounts balance past due \n",
      "Original issue: their investigation did not fix an error on your report \n",
      "Predicted issue:  their investigation did not fix an error on your report\n",
      "\n",
      "\n",
      "Complaint: submitted credit report dispute pertaining accounts knowledge acquiring upon sending dispute requested debt validation following companies responded back debt certified reporting agency however documents sent substantiate claim request listed companies attempting collect alleged debt proof belongs required fcra fdcp inaccurate reporting causing harm cra refuse delete information \n",
      "Original issue: their investigation did not fix an error on your report \n",
      "Predicted issue:  their investigation did not fix an error on your report\n",
      "\n",
      "\n",
      "Complaint: trans union reporting inaccurate payment history credit report credit limit never late account asked late payments removed immediately \n",
      "Original issue: information belongs to someone else \n",
      "Predicted issue:  account information incorrect\n",
      "\n",
      "\n",
      "Complaint: went entered information selected receive report experian response could verify identity routed experian site could upload documents prove identity times entered information attempted upload copy passport bank statement time rejected issue receiving report credit agencies difficult \n",
      "Original issue: problem getting your free annual credit report \n",
      "Predicted issue:  problem getting your free annual credit report\n",
      "\n",
      "\n",
      "Complaint: victim identity theft \n",
      "Original issue: their investigation did not fix an error on your report \n",
      "Predicted issue:  information belongs to someone else\n",
      "\n",
      "\n",
      "Complaint: contacted transunion via certified mail twice requesting verification accounts listed credit report within day time frame failed provide verification investigated matter fullest extent enclosed copy credit report recent credit report showing due diligence requesting actual verification creditors \n",
      "Original issue: account information incorrect \n",
      "Predicted issue:  their investigation did not fix an error on your report\n",
      "\n",
      "\n",
      "Complaint: debt originally currently reporting date delinquency collection resold times creditor put date last creditor bought debt date delinquency illegally reaging debt disputed credit bureaus returning information saying valid would like removed credit reports \n",
      "Original issue: their investigation did not fix an error on your report \n",
      "Predicted issue:  debt was paid\n",
      "\n",
      "\n",
      "Complaint: capital one auto finance company opened continues inaccurately report account credit bureaus name sent several letter asking removal corrections noted stated certified letter account listed reported duplicate already part public record legally discharged company agreed remove please refrain continuing report \n",
      "Original issue: their investigation did not fix an error on your report \n",
      "Predicted issue:  their investigation did not fix an error on your report\n",
      "\n",
      "\n",
      "Complaint: hello inquiring accounts may open name ssn name ssn also inquiring custodial accounts son name ssn daughters name believe account may opened fraudulently close relative without knowledge accounts open names could please close immediately send remaining balances final statement address thanks time \n",
      "Original issue: cannot close your account \n",
      "Predicted issue:  card opened as result of identity theft or fraud\n",
      "\n",
      "\n",
      "Complaint: know company keeps calling answer phone nobody respond call phone numbers attempt block comes portfolio recov stop calling even call parents since never give harassment harassment th degree blocked number every day five times day still call different number \n",
      "Original issue: frequent or repeated calls \n",
      "Predicted issue:  you told them to stop contacting you but they keep trying\n",
      "\n",
      "\n",
      "Complaint: identity compromised incarcerated see accounts credit report inwhich knowledge would like accounts removed report immediately following accounts belong \n",
      "Original issue: information belongs to someone else \n",
      "Predicted issue:  information belongs to someone else\n",
      "\n",
      "\n",
      "Complaint: obtained yearly free credit reports credit bureaus noticed commonwealth financial listed disputed removed since reported yet used new date report file knowledge debt never received correspondence mail regarding debt time report debt agency score goes removed recently immediately reported directly removed need immediately investigated practices \n",
      "Original issue: debt is not yours \n",
      "Predicted issue:  did not receive enough information to verify debt\n",
      "\n",
      "\n",
      "Complaint: call rep upgrade new cell phone never activated used never agreed informed day grace restocking fee applies phone cost given wrong number activation completed shipped phone back hired collection service asking restocking fee sequium assets bill never used phone \n",
      "Original issue: did not receive notice of right to dispute \n",
      "Predicted issue:  debt was paid\n",
      "\n",
      "\n",
      "Complaint: last year since experian multiple letters documentation asking companies provide documents used verify accounts disputed last letter sent days ago still verify accounts section fcra required promptly delete information verified disputed please resolve manner soon possible \n",
      "Original issue: information belongs to someone else \n",
      "Predicted issue:  their investigation did not fix an error on your report\n",
      "\n",
      "\n",
      "Complaint: previously filed complaint consumer finance bureau stated another person listed responsible party however responsible party brother addition received validation debt office like previous response mentioned nothing come address addresses listed credit report complaint cpfb brother yet see reported verified attached letter sequium asset also mailing connection complaint \n",
      "Original issue: debt is not yours \n",
      "Predicted issue:  debt is not yours\n",
      "\n",
      "\n",
      "Complaint: sent letter requesting verify debt thats supposedly owed company sent information regarding request \n",
      "Original issue: did not receive enough information to verify debt \n",
      "Predicted issue:  did not receive enough information to verify debt\n",
      "\n",
      "\n",
      "Complaint: disputed credit reporting information equifax sent multiple emails regarding information dealt however go retrieve information access online dispute center either asks verify information belong told unable get information must speak representative information asked belongs sister birthdate month day years different time share address currently living however credit information based living situation able get proper information company allow access \n",
      "Original issue: personal information incorrect \n",
      "Predicted issue:  personal information incorrect\n",
      "\n",
      "\n",
      "Complaint: reviewed credit report found inaccurate account entries identified inquiries placed credit without knowledge negative account inquiries caused great deed hardship credit know idea anyone would personal information able thing asking please investigate account inquiries removed credit soon possible \n",
      "Original issue: information belongs to someone else \n",
      "Predicted issue:  information belongs to someone else\n",
      "\n",
      "\n",
      "Complaint: account shows delinquent company subsequently closed account reported credit bureaus \n",
      "Original issue: account status incorrect \n",
      "Predicted issue:  account information incorrect\n",
      "\n",
      "\n",
      "Complaint: following inquiries done authorized never contacted company either leads believe sort error please look matter delete information provide documentation proves inquiry authorized delete credit report \n",
      "Original issue: credit inquiries on your report that you do not recognize \n",
      "Predicted issue:  credit inquiries on your report that you do not recognize\n",
      "\n",
      "\n",
      "Complaint: disputed collection valid duplicated credit report collection listed listings transunion sent back verified accurate give proof account reporting accurate files sent showing collection belongs \n",
      "Original issue: their investigation did not fix an error on your report \n",
      "Predicted issue:  their investigation did not fix an error on your report\n",
      "\n",
      "\n",
      "Complaint: mortgage loan always made payments time reason realized late payment credit report called said system automatically put paperless billing request awaiting letter mail time find system error see always stellar payment record tried contacting experian successful resolution experian reporting days late error part never days late \n",
      "Original issue: account status incorrect \n",
      "Predicted issue:  account status incorrect\n",
      "\n",
      "\n",
      "Complaint: shocked reviewed credit report still found multiple inaccuracies credit report major credit bureaus attempted several times ratify issue original creditors credit bureaus still reporting inaccurate unverifiable information see last reported date well date last active different three bureaus shows chargeoff yet see balance past due reporting clear indication report inaccurate demand account deleted immediately \n",
      "Original issue: their investigation did not fix an error on your report \n",
      "Predicted issue:  their investigation did not fix an error on your report\n",
      "\n",
      "\n",
      "Complaint: filed dispute remove student loans reports missing information account history incorrect balance account stated account accurate accurate \n",
      "Original issue: information is missing that should be on the report \n",
      "Predicted issue:  their investigation did not fix an error on your report\n",
      "\n",
      "\n",
      "Complaint: victim identity theft several addresses accounts inquiries fraudulently added credit file several addresses result identity theft need blocked credit file nc nc nc inquiries card card card listed id theft affidavit ftc police report happened mine sent letters regarding issue luck sending make sure matter gets attention needs items blocked permanently fraud file \n",
      "Original issue: information belongs to someone else \n",
      "Predicted issue:  information belongs to someone else\n",
      "\n",
      "\n",
      "Complaint: tried several times get correct current payment status loan transferred representative called update progress said believe payment status reported properly asked statement plain english credit report saying currently past due loan closed years ago could accurate asked fax documentation someone would look one looked least contacted back evidently used phone call successful completion cfpb complaint \n",
      "Original issue: account status incorrect \n",
      "Predicted issue:  account status incorrect\n",
      "\n",
      "\n",
      "Complaint: several inquiries account started last month \n",
      "Original issue: their investigation did not fix an error on your report \n",
      "Predicted issue:  credit inquiries on your report that you do not recognize\n",
      "\n",
      "\n",
      "Complaint: day mother died made purchase amount due stress attention required settle mother estate three days late paying amount full asked due circumstances continued ask late fee reversed charged fees interest original late fee getting least half dozen phone calls day consider harrassment paid balance owed could easily forgiven original late fee new account made one purchase \n",
      "Original issue: problem with fees \n",
      "Predicted issue:  problem with fees\n",
      "\n",
      "\n",
      "Complaint: sent information required online equifax get annual free report received annual free report equifax recent purchase agreement made stated equifax score score discrepancy needs investigated shows equifax score need help resolve equifax reported score opposed equifax score \n",
      "Original issue: problem getting your free annual credit report \n",
      "Predicted issue:  problem getting your free annual credit report\n",
      "\n",
      "\n",
      "Complaint: asked experian file dispute errors credit report got results back showed several things deleted report still showed credit report called asked explanation findings spoke lady said investigation claims verified electronically said accurate get information see accurate statement documentation verify accuracy accounts proof anything told creditors job investigate investigation call one dont investigate \n",
      "Original issue: their investigation did not fix an error on your report \n",
      "Predicted issue:  their investigation did not fix an error on your report\n",
      "\n",
      "\n",
      "Complaint: setup bill pay mortgage held th rd bank regularly paid every month beginning years ago long ago set payment every month due guaranteed th month year like three four years days year hit huge penalty cashed payment listen reason despite thing happening every prior year days without problem penalty \n",
      "Original issue: account status incorrect \n",
      "Predicted issue:  account status incorrect\n",
      "\n",
      "\n",
      "Complaint: key bank reported late payments account credit account ending \n",
      "Original issue: account status incorrect \n",
      "Predicted issue:  account status incorrect\n",
      "\n",
      "\n",
      "Complaint: past months made many attempts correct incorrect credit information decreased credit card debt removed accounts mine disputed another company disputed updated information correct however transunion added account new account causing score drop points per representative transunion called since noticed account removed increase score originally put account would like points back refusing add back \n",
      "Original issue: account information incorrect \n",
      "Predicted issue:  their investigation did not fix an error on your report\n",
      "\n",
      "\n",
      "Complaint: following companies ran unauthorized credit inquiries credit report suspicious kindly delete asap \n",
      "Original issue: reporting company used your report improperly \n",
      "Predicted issue:  reporting company used your report improperly\n",
      "\n",
      "\n",
      "Complaint: previously credit limit discover days late card discover reduced limit late payment card account waived late fee discover dropped available credit right current balance receive letter stating discover stated informed mail \n",
      "Original issue: other problem \n",
      "Predicted issue:  company closed your account\n",
      "\n",
      "\n",
      "Complaint: started account early late credit score first created account early late noticed suddenly credit score credit card open fake name assume fake address tried contacting capital one night successful getting ahold representative account number credit card number associated fraudulent account also noticed bill appeared account along never either company reason believe person may gotten ahold social security number somehow process contacting capital one mail hoping get resolved \n",
      "Original issue: information belongs to someone else \n",
      "Predicted issue:  their investigation did not fix an error on your report\n",
      "\n",
      "\n",
      "Complaint: tried dispute credit card charge online chase com filing pages hit submit came back please try later thanks patience tried working response tried working response tried working response chase tell part website work fill pages chase com website dispute function working weeks long working complained supervisor basically got told web somebody else responsibility could complain \n",
      "Original issue: on and services \n",
      "Predicted issue:  credit card company is not resolving dispute about purchase on your statement\n",
      "\n",
      "\n",
      "Complaint: old information reappearing \n",
      "Original issue: old information reappears or never goes away \n",
      "Predicted issue:  account information incorrect\n",
      "\n",
      "\n",
      "Complaint: victim identity theft family member used information resulting medical collections idaho never sought treatment able remove one accounts credit unfortunately advantage financial services still attempting collect debt belong \n",
      "Original issue: debt was result of identity theft \n",
      "Predicted issue:  debt was result of identity theft\n",
      "\n",
      "\n",
      "Complaint: identity stolen already reported information police credit bureaus still reporting information violation fcra ss us code sent information police report copies identification also utility bills removed fraudulent accounts still several remain going year causing significant damages unable get new job apply credit violating law damaging reputation wasted dozens upon dozens hours trying get situation rectified seems care money paid creditors law rights \n",
      "Original issue: information belongs to someone else \n",
      "Predicted issue:  information belongs to someone else\n",
      "\n",
      "\n",
      "Complaint: telephone payment made via telephone payment system assumed payment posted received confirmation number automated telephone system system post payment time payment made discovered error made payment system notified stated fact payment made via telephone system declined investigate possibility system made error occurred time payment made telephone system provided consumers allowing processing payments date made attempts asst reporting accurate information credit profile account always current current \n",
      "Original issue: account information incorrect \n",
      "Predicted issue:  account status incorrect\n",
      "\n",
      "\n",
      "Complaint: called erc make collection payment told debt collector making payment collection would removed credit report collection still shows credit dispute collection credit bureau always tell contact collection company collection removed credit contact collection company tell contact credit bureaus \n",
      "Original issue: debt was paid \n",
      "Predicted issue:  debt was paid\n",
      "\n",
      "\n",
      "Complaint: capital one bank reporting credit report accounts belong written companies several times fail send type agreement capital one bank contacting year one account credit limit say previous balance new balance account capital one bank sent two different invoices amounts previous balance new balance fees interest charges invoice associated account credit limit previous balance new balance interest charged security alerts bureaus \n",
      "Original issue: debt is not yours \n",
      "Predicted issue:  problem with fees\n",
      "\n",
      "\n",
      "Complaint: already yrs qualifying pslf payments result sending billing statement bankruptcy stay another missing payment eligible loans \n",
      "Original issue: their investigation did not fix an error on your report \n",
      "Predicted issue:  debt was paid\n",
      "\n",
      "\n",
      "Complaint: attorney contacted fair collections outsourcing regards debt client regarding amount debt unsubstantiated fco failed provide complete billing demonstrate charges disputed multiple time credit bureau fact time fco responds dispute debt collectable valid validate balance owed \n",
      "Original issue: attempted to collect wrong amount \n",
      "Predicted issue:  debt is not yours\n",
      "\n",
      "\n"
     ]
    }
   ],
   "source": [
    "for i in range(0,100):\n",
    "    print(\"Complaint:\",seq2text(x_tr[i]))\n",
    "    print(\"Original issue:\",seq2summary(y_tr[i]))\n",
    "    print(\"Predicted issue:\",decode_sequence(x_tr[i].reshape(1,max_narrative_len)))\n",
    "    print(\"\\n\")"
   ]
  }
 ],
 "metadata": {
  "kernelspec": {
   "display_name": "Python 3",
   "language": "python",
   "name": "python3"
  },
  "language_info": {
   "codemirror_mode": {
    "name": "ipython",
    "version": 3
   },
   "file_extension": ".py",
   "mimetype": "text/x-python",
   "name": "python",
   "nbconvert_exporter": "python",
   "pygments_lexer": "ipython3",
   "version": "3.7.3"
  }
 },
 "nbformat": 4,
 "nbformat_minor": 4
}
